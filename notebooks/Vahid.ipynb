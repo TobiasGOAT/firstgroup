{
 "cells": [
  {
   "cell_type": "code",
   "execution_count": 1,
   "id": "bf57764c-a45a-4af1-809e-b5e87db9a3c9",
   "metadata": {},
   "outputs": [],
   "source": [
    "import numpy as np\n"
   ]
  },
  {
   "cell_type": "code",
   "execution_count": 2,
   "id": "0ca0425e-c81f-417d-bd7a-056c374d3029",
   "metadata": {},
   "outputs": [],
   "source": [
    "class NeuralNetwork:\n",
    "    def __init__(self, input_size, hidden_size, output_size, weight_scale=0.01):\n",
    "\n",
    "        # Weights between (input + bias) → (hidden)\n",
    "        # Shape: (hidden_size, input_size + 1)\n",
    "        self.W1 = np.random.randn(hidden_size, input_size + 1) * weight_scale  # ⚠️ scaled init\n",
    "\n",
    "        # Weights between (hidden + bias) → (output)\n",
    "        # Shape: (output_size, hidden_size + 1)\n",
    "        self.W2 = np.random.randn(output_size, hidden_size + 1) * weight_scale  # ⚠️ scaled init\n",
    "\n",
    "        # Store sizes\n",
    "        self.input_size = input_size\n",
    "        self.hidden_size = hidden_size\n",
    "        self.output_size = output_size\n",
    "\n",
    "    @staticmethod\n",
    "    def sigmoid(z):\n",
    "        return 1.0 / (1.0 + np.exp(-z))\n",
    "\n",
    "    def _append_bias_row(self, A):\n",
    "        ones = np.ones((1, A.shape[1]), dtype=A.dtype)\n",
    "        return np.vstack([A, ones])\n",
    "\n",
    "    def forward(self, X):\n",
    "        \"\"\"\n",
    "        X: input with shape (input_size, batch_size) ← mini-batch\n",
    "        Output: y_hat with shape (output_size, batch_size)\n",
    "        \"\"\"\n",
    "        # 1) Add bias neuron to input layer: (input_size+1, batch_size)\n",
    "        Xb = self._append_bias_row(X)\n",
    "\n",
    "        # 2) Pre-activation of hidden layer: z1 = W1 · Xb\n",
    "        z1 = self.W1 @ Xb\n",
    "\n",
    "        # 3) Hidden layer activation: a1 = sigmoid(z1) → (hidden_size, batch_size)\n",
    "        a1 = self.sigmoid(z1)\n",
    "\n",
    "        # 4) Add bias neuron to a1: (hidden_size+1, batch_size)\n",
    "        a1b = self._append_bias_row(a1)\n",
    "\n",
    "        # 5) Pre-activation of output layer: z2 = W2 · a1b\n",
    "        z2 = self.W2 @ a1b\n",
    "\n",
    "        # 6) Output activation: a2 = sigmoid(z2) → (output_size, batch_size)\n",
    "        a2 = self.sigmoid(z2)\n",
    "\n",
    "        # Save for backpropagation\n",
    "        self.cache = {\n",
    "            \"X\": X, \"Xb\": Xb,\n",
    "            \"z1\": z1, \"a1\": a1, \"a1b\": a1b,\n",
    "            \"z2\": z2, \"a2\": a2\n",
    "        }\n",
    "        return a2\n"
   ]
  },
  {
   "cell_type": "markdown",
   "id": "389a1a06-bba5-4104-aded-55e704487658",
   "metadata": {},
   "source": [
    "## Test"
   ]
  },
  {
   "cell_type": "code",
   "execution_count": 4,
   "id": "944ea7a6-fc6d-48ed-bec6-6fcb7d3675b4",
   "metadata": {},
   "outputs": [
    {
     "name": "stdout",
     "output_type": "stream",
     "text": [
      "All shape checks passed. Forward OK.\n"
     ]
    }
   ],
   "source": [
    "input_size, hidden_size, output_size = 784, 30, 10\n",
    "B = 16  # batch size\n",
    "\n",
    "nn = NeuralNetwork(input_size, hidden_size, output_size, weight_scale=0.01)  # ← مقیاس خارج از منابع\n",
    "X = np.random.rand(input_size, B)  # (784, 16)\n",
    "\n",
    "Yhat = nn.forward(X)\n",
    "\n",
    "assert nn.W1.shape == (hidden_size, input_size + 1)\n",
    "assert nn.W2.shape == (output_size, hidden_size + 1)\n",
    "assert nn.cache[\"Xb\"].shape == (input_size + 1, B)\n",
    "assert nn.cache[\"a1\"].shape == (hidden_size, B)\n",
    "assert nn.cache[\"a1b\"].shape == (hidden_size + 1, B)\n",
    "assert Yhat.shape == (output_size, B)\n",
    "\n",
    "print(\"All shape checks passed. Forward OK.\")\n"
   ]
  },
  {
   "cell_type": "code",
   "execution_count": null,
   "id": "94678352-1118-4050-b758-db088dc67f9d",
   "metadata": {},
   "outputs": [],
   "source": []
  }
 ],
 "metadata": {
  "kernelspec": {
   "display_name": "Python 3 (ipykernel)",
   "language": "python",
   "name": "python3"
  },
  "language_info": {
   "codemirror_mode": {
    "name": "ipython",
    "version": 3
   },
   "file_extension": ".py",
   "mimetype": "text/x-python",
   "name": "python",
   "nbconvert_exporter": "python",
   "pygments_lexer": "ipython3",
   "version": "3.12.3"
  }
 },
 "nbformat": 4,
 "nbformat_minor": 5
}
